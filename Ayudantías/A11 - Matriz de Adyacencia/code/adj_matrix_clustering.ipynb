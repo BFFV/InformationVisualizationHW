{
 "metadata": {
  "language_info": {
   "codemirror_mode": {
    "name": "ipython",
    "version": 3
   },
   "file_extension": ".py",
   "mimetype": "text/x-python",
   "name": "python",
   "nbconvert_exporter": "python",
   "pygments_lexer": "ipython3",
   "version": "3.8.3-final"
  },
  "orig_nbformat": 2,
  "kernelspec": {
   "name": "python3",
   "display_name": "Python 3"
  }
 },
 "nbformat": 4,
 "nbformat_minor": 2,
 "cells": [
  {
   "cell_type": "code",
   "execution_count": 23,
   "metadata": {},
   "outputs": [],
   "source": [
    "from sklearn.cluster import SpectralClustering\n",
    "import numpy as np"
   ]
  },
  {
   "source": [
    "## Create a symmetric adjacency matrix"
   ],
   "cell_type": "markdown",
   "metadata": {}
  },
  {
   "cell_type": "code",
   "execution_count": 27,
   "metadata": {},
   "outputs": [
    {
     "output_type": "execute_result",
     "data": {
      "text/plain": [
       "array([[0, 0, 0, ..., 0, 0, 1],\n",
       "       [0, 0, 0, ..., 0, 0, 0],\n",
       "       [0, 0, 0, ..., 1, 1, 0],\n",
       "       ...,\n",
       "       [0, 0, 1, ..., 0, 0, 0],\n",
       "       [0, 0, 1, ..., 0, 0, 0],\n",
       "       [1, 0, 0, ..., 0, 0, 0]])"
      ]
     },
     "metadata": {},
     "execution_count": 27
    }
   ],
   "source": [
    "N = 40\n",
    "adj_matrix = np.random.choice([0,1],p=[.8, .2],size=(N,N))\n",
    "lower_triag_adj_matrix = adj_matrix - np.triu(adj_matrix)\n",
    "upper_triag_adj_matrix = np.rot90(np.fliplr(lower_triag_adj_matrix))\n",
    "\n",
    "adj_matrix = lower_triag_adj_matrix + upper_triag_adj_matrix\n",
    "adj_matrix"
   ]
  },
  {
   "source": [
    "## Cluster the values of the matrix"
   ],
   "cell_type": "markdown",
   "metadata": {}
  },
  {
   "cell_type": "code",
   "execution_count": 48,
   "metadata": {},
   "outputs": [
    {
     "output_type": "execute_result",
     "data": {
      "text/plain": [
       "array([ 2,  2,  4,  1, 12,  9, 13,  8,  4,  4, 12, 12,  6,  5, 14,  1,  1,\n",
       "       14,  7, 10,  3,  2, 11,  5,  2,  6,  3,  1,  8, 13,  9,  7,  1,  2,\n",
       "        7,  2, 10,  4, 11, 12])"
      ]
     },
     "metadata": {},
     "execution_count": 48
    }
   ],
   "source": [
    "n_clusters = 15\n",
    "row_cluster_labels = SpectralClustering(n_clusters=n_clusters, random_state=42, assign_labels=\"discretize\").fit(adj_matrix).labels_\n",
    "row_cluster_labels"
   ]
  },
  {
   "source": [
    "## Get new order of rows and columns"
   ],
   "cell_type": "markdown",
   "metadata": {}
  },
  {
   "cell_type": "code",
   "execution_count": 49,
   "metadata": {},
   "outputs": [
    {
     "output_type": "execute_result",
     "data": {
      "text/plain": [
       "array([ 3, 32, 16, 15, 27,  0, 24, 21, 35, 33,  1, 26, 20,  8, 37,  2,  9,\n",
       "       13, 23, 12, 25, 31, 34, 18,  7, 28, 30,  5, 36, 19, 22, 38, 11, 10,\n",
       "        4, 39,  6, 29, 17, 14])"
      ]
     },
     "metadata": {},
     "execution_count": 49
    }
   ],
   "source": [
    "new_order = np.argsort(row_cluster_labels)\n",
    "new_order\n"
   ]
  },
  {
   "source": [
    "## Perform the reordering"
   ],
   "cell_type": "markdown",
   "metadata": {}
  },
  {
   "cell_type": "code",
   "execution_count": 50,
   "metadata": {},
   "outputs": [
    {
     "output_type": "execute_result",
     "data": {
      "text/plain": [
       "array([[0, 0, 0, ..., 0, 1, 1],\n",
       "       [0, 0, 0, ..., 0, 0, 0],\n",
       "       [0, 0, 0, ..., 0, 0, 0],\n",
       "       ...,\n",
       "       [0, 0, 0, ..., 0, 0, 0],\n",
       "       [1, 0, 0, ..., 0, 0, 0],\n",
       "       [1, 0, 0, ..., 0, 0, 0]])"
      ]
     },
     "metadata": {},
     "execution_count": 50
    }
   ],
   "source": [
    "clustered_adj_matrix = adj_matrix[new_order][:, new_order]\n",
    "clustered_adj_matrix"
   ]
  },
  {
   "source": [
    "## Save the matrix as a CSV file"
   ],
   "cell_type": "markdown",
   "metadata": {}
  },
  {
   "cell_type": "code",
   "execution_count": 51,
   "metadata": {},
   "outputs": [],
   "source": [
    "np.savetxt(\"clustered_adj_matrix.csv\", clustered_adj_matrix, delimiter=\",\", fmt=\"%i\")"
   ]
  }
 ]
}